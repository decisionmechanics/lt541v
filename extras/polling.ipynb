{
 "cells": [
  {
   "cell_type": "markdown",
   "id": "459dd23a-f892-4c63-8541-4f6f3eb1eeb7",
   "metadata": {},
   "source": [
    "<img width=\"300px\" src=\"../images/learning-tree-logo.svg\" alt=\"Learning Tree logo\" />"
   ]
  },
  {
   "cell_type": "markdown",
   "id": "49c262da-4cd1-42c1-a1ae-823038f18a21",
   "metadata": {},
   "source": [
    "# Scottish independence referendum (2014) polling"
   ]
  },
  {
   "cell_type": "markdown",
   "id": "c03ed935-9c93-41e3-8ccb-29d01c409b95",
   "metadata": {},
   "source": [
    "In 2014 Scotland voted to remain part of the United Kingdom (UK). 2,001,926 people voted to remain, and 1,617,989 voted to leave, [resulting in a 55.3% vote share for \"No\"](https://en.wikipedia.org/wiki/2014_Scottish_independence_referendum)."
   ]
  },
  {
   "cell_type": "code",
   "execution_count": null,
   "id": "62a50b71-756e-47d7-b11c-c22ddae9d756",
   "metadata": {},
   "outputs": [],
   "source": [
    "import matplotlib.pyplot as plt\n",
    "import numpy as np"
   ]
  },
  {
   "cell_type": "markdown",
   "id": "000c0a59-6258-4632-9072-91c8e5477796",
   "metadata": {},
   "source": [
    "## Create the (voter) population"
   ]
  },
  {
   "cell_type": "markdown",
   "id": "0cb5aef2-8b2a-4f80-b21b-8ce9c2e1e2f5",
   "metadata": {},
   "source": [
    "`0` represents \"Remain/No\" and `1` represents \"Leave/Yes\"."
   ]
  },
  {
   "cell_type": "code",
   "execution_count": null,
   "id": "5b2453ce-7977-4fe8-a646-76bf6702c081",
   "metadata": {},
   "outputs": [],
   "source": [
    "population = np.concatenate((np.zeros(2_001_926), np.ones(1_617_989)))"
   ]
  },
  {
   "cell_type": "markdown",
   "id": "765e048a-eed3-4935-a4e1-e056c30f7aa1",
   "metadata": {},
   "source": [
    "The percentage of voters who voted to remain in the UK was"
   ]
  },
  {
   "cell_type": "code",
   "execution_count": null,
   "id": "5db2d804-33ad-465e-9e10-eb7ffd124cfb",
   "metadata": {},
   "outputs": [],
   "source": [
    "np.round((1 - np.mean(population)) * 100, 1)"
   ]
  },
  {
   "cell_type": "markdown",
   "id": "5009dd2f-d56a-4321-9774-c2dfd3c11068",
   "metadata": {},
   "source": [
    "## Conduct opinion polls"
   ]
  },
  {
   "cell_type": "markdown",
   "id": "d0715c46-90e7-4e9f-b797-47b4deac0aff",
   "metadata": {},
   "source": [
    "[Opinion polls prior to the referendum](https://en.wikipedia.org/wiki/Opinion_polling_on_Scottish_independence#2014_referendum) used a sample size of around 1000."
   ]
  },
  {
   "cell_type": "code",
   "execution_count": null,
   "id": "3fbc8336-c5d0-40bf-b853-a61440be3849",
   "metadata": {},
   "outputs": [],
   "source": [
    "SAMPLE_SIZE = 1_000"
   ]
  },
  {
   "cell_type": "markdown",
   "id": "5d05d321-4ec6-45db-ae6a-9624de642efa",
   "metadata": {},
   "source": [
    "Take 10,000 opinion polls."
   ]
  },
  {
   "cell_type": "code",
   "execution_count": null,
   "id": "473fc933-377d-4719-ad8b-49c778952d7a",
   "metadata": {},
   "outputs": [],
   "source": [
    "N_SAMPLES = 10_000"
   ]
  },
  {
   "cell_type": "code",
   "execution_count": null,
   "id": "0d16dac4-a1fb-4238-8ea1-c339b74fd265",
   "metadata": {},
   "outputs": [],
   "source": [
    "sample_means = np.zeros(N_SAMPLES)\n",
    "\n",
    "for i in range(N_SAMPLES):\n",
    "    sample = np.random.choice(population, size=SAMPLE_SIZE, replace=True)\n",
    "    sample_means[i] = np.mean(sample)"
   ]
  },
  {
   "cell_type": "markdown",
   "id": "dfdf7b3a-41e0-48e9-8172-d4296e5849ce",
   "metadata": {},
   "source": [
    "The range of estimates for the proportion of voters who'll vote \"Remain/No\" is"
   ]
  },
  {
   "cell_type": "code",
   "execution_count": null,
   "id": "9feb25bb-19f0-412b-922a-77d58bad6a02",
   "metadata": {},
   "outputs": [],
   "source": [
    "1 - np.max(sample_means), 1 - np.min(sample_means)"
   ]
  },
  {
   "cell_type": "code",
   "execution_count": null,
   "id": "d2a32816-31cb-4efb-a574-35a1861bf0d8",
   "metadata": {},
   "outputs": [],
   "source": [
    "plt.hist(sample_means);"
   ]
  },
  {
   "cell_type": "markdown",
   "id": "44438147-52db-4e63-9e79-31980f8691b6",
   "metadata": {},
   "source": [
    "Note that the only problem we are dealing with here is **sampling error**. Real opinion polls have other sources of error."
   ]
  },
  {
   "cell_type": "markdown",
   "id": "747883da-3961-4875-be87-8e635ac46a9c",
   "metadata": {},
   "source": [
    "## Accuracy of poll"
   ]
  },
  {
   "cell_type": "markdown",
   "id": "43d97f0f-a256-41fe-a93b-ed08921fd8e9",
   "metadata": {},
   "source": [
    "The parameters of the sampling distribution are"
   ]
  },
  {
   "cell_type": "code",
   "execution_count": null,
   "id": "353cee3d-cb9d-411b-8630-56906d167da6",
   "metadata": {},
   "outputs": [],
   "source": [
    "x = 1 - np.mean(sample_means)\n",
    "x"
   ]
  },
  {
   "cell_type": "code",
   "execution_count": null,
   "id": "83e3488b-9d35-46b3-bc5e-aeb0bf2e7e6f",
   "metadata": {},
   "outputs": [],
   "source": [
    "s = np.std(sample_means)\n",
    "s"
   ]
  },
  {
   "cell_type": "markdown",
   "id": "50b5a4ea-aad6-4c85-b040-86d94b86584a",
   "metadata": {},
   "source": [
    "The 95% margin of error is"
   ]
  },
  {
   "cell_type": "code",
   "execution_count": null,
   "id": "798f1741-4688-4b82-b87e-6644d74a429c",
   "metadata": {},
   "outputs": [],
   "source": [
    "err = 1.96 * s\n",
    "np.round(err, 3)"
   ]
  },
  {
   "cell_type": "code",
   "execution_count": null,
   "id": "09b6c1be-2de1-4332-977a-23956fd79fcc",
   "metadata": {},
   "outputs": [],
   "source": [
    "np.round(x - err, 3), np.round(x + err, 3)"
   ]
  }
 ],
 "metadata": {
  "kernelspec": {
   "display_name": "Python 3 (ipykernel)",
   "language": "python",
   "name": "python3"
  },
  "language_info": {
   "codemirror_mode": {
    "name": "ipython",
    "version": 3
   },
   "file_extension": ".py",
   "mimetype": "text/x-python",
   "name": "python",
   "nbconvert_exporter": "python",
   "pygments_lexer": "ipython3",
   "version": "3.11.10"
  }
 },
 "nbformat": 4,
 "nbformat_minor": 5
}
