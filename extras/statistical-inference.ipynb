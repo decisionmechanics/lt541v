{
 "cells": [
  {
   "cell_type": "markdown",
   "id": "4287fe30-b3cd-4460-81f7-956123c88808",
   "metadata": {},
   "source": [
    "<img width=\"300px\" src=\"../images/learning-tree-logo.svg\" alt=\"Learning Tree logo\" />"
   ]
  },
  {
   "cell_type": "markdown",
   "id": "a605c4c5-7e14-4949-bf54-b3665cd2fdc3",
   "metadata": {},
   "source": [
    "# Statistical inference\n",
    "\n",
    "Statistical inference is fairly intuitive---once you escape from all the different tests and their distributions."
   ]
  },
  {
   "cell_type": "code",
   "execution_count": null,
   "id": "ce920eed-c960-489b-ae20-db631c8e052f",
   "metadata": {},
   "outputs": [],
   "source": [
    "import matplotlib.pyplot as plt\n",
    "import numpy as np\n",
    "from scipy.stats import percentileofscore"
   ]
  },
  {
   "cell_type": "markdown",
   "id": "caf30ffd-fbf0-48e8-a533-d83dd7bbf89d",
   "metadata": {},
   "source": [
    "We have a sample of 20 IQ scores. Is there evidence to support that this is a sample from a population with above average intelligence (i.e. with IQs above 100)?"
   ]
  },
  {
   "cell_type": "code",
   "execution_count": null,
   "id": "c4f5df88-8fed-4187-9439-5a7258dbf557",
   "metadata": {},
   "outputs": [],
   "source": [
    "iq_scores = [\n",
    "    117.0,\n",
    "    67.0,\n",
    "    116.0,\n",
    "    102.0,\n",
    "    108.0,\n",
    "    104.0,\n",
    "    101.0,\n",
    "    127.0,\n",
    "    125.0,\n",
    "    102.0,\n",
    "    122.0,\n",
    "    113.0,\n",
    "    69.0,\n",
    "    119.0,\n",
    "    136.0,\n",
    "    100.0,\n",
    "    114.0,\n",
    "    87.0,\n",
    "    105.0,\n",
    "    80.0,\n",
    "]"
   ]
  },
  {
   "cell_type": "markdown",
   "id": "40461747-80b1-49f9-9dbd-8748b04c5c8c",
   "metadata": {},
   "source": [
    "Create a histogram of the values in `iq_scores`."
   ]
  },
  {
   "cell_type": "code",
   "execution_count": null,
   "id": "d1fe473b-ba92-475b-bd40-48977e55d355",
   "metadata": {},
   "outputs": [],
   "source": [
    "plt.hist(iq_scores, bins=6);"
   ]
  },
  {
   "cell_type": "markdown",
   "id": "bb180e11-8b37-4c06-804b-71a8cd19bb88",
   "metadata": {},
   "source": [
    "The majority of people in the sample certainty have above average IQs, but could this just be a result of sampling error? "
   ]
  },
  {
   "cell_type": "markdown",
   "id": "f12931fb-4a0b-4c19-8942-a90d4373d626",
   "metadata": {},
   "source": [
    "Calculate the mean IQ from `iq_scores`."
   ]
  },
  {
   "cell_type": "code",
   "execution_count": null,
   "id": "da377e92-e53a-4889-bc07-f41a69f7c9f6",
   "metadata": {},
   "outputs": [],
   "source": [
    "np.mean(iq_scores)"
   ]
  },
  {
   "cell_type": "markdown",
   "id": "ba98b16b-7bb0-44ec-9fff-f784277fd05d",
   "metadata": {},
   "source": [
    "Considerably above 100...but this proves nothing."
   ]
  },
  {
   "cell_type": "markdown",
   "id": "49c12187-a362-402b-9fbe-47e91cd1a74d",
   "metadata": {},
   "source": [
    "Create a 10,000 random (re)samples from `iq_score` and calcuate their means. Store the 10,000 means in `sample_means`."
   ]
  },
  {
   "cell_type": "code",
   "execution_count": null,
   "id": "af00be8e-b16b-43f7-b947-d47eb89b85de",
   "metadata": {},
   "outputs": [],
   "source": [
    "sample_means = []\n",
    "\n",
    "for _ in range(0, 10000):\n",
    "    sample_mean = np.random.choice(iq_scores, size=len(iq_scores), replace=True).mean()\n",
    "\n",
    "    sample_means.append(sample_mean)"
   ]
  },
  {
   "cell_type": "markdown",
   "id": "79c96a74-f219-4392-a043-cc1e1ad0e975",
   "metadata": {},
   "source": [
    "`sample_means` is an estimate of the [sampling distribution](https://en.wikipedia.org/wiki/Sampling_distribution)."
   ]
  },
  {
   "cell_type": "markdown",
   "id": "749f14bd-9154-4e42-9aa6-ec3612b41d58",
   "metadata": {},
   "source": [
    "Visualise the sampling distribution by creating a histogram from `sample_means`."
   ]
  },
  {
   "cell_type": "code",
   "execution_count": null,
   "id": "62c8b7f1-b4db-449e-bf07-b68bb4185241",
   "metadata": {},
   "outputs": [],
   "source": [
    "plt.hist(sample_means, bins=50)\n",
    "plt.vlines(x=100, ymin=0, ymax=600, colors=\"red\")\n",
    "plt.show()"
   ]
  },
  {
   "cell_type": "markdown",
   "id": "922d0796-a7a8-4e7e-adda-0aab37990eab",
   "metadata": {},
   "source": [
    "How unlikely is a average IQ at, or below, 100 given this distribution? "
   ]
  },
  {
   "cell_type": "markdown",
   "id": "bc70acbf-c1d7-4a61-8853-800232baa8a7",
   "metadata": {},
   "source": [
    "Calculate the percentile of 100 using `sample_means`."
   ]
  },
  {
   "cell_type": "code",
   "execution_count": null,
   "id": "4fdb8531-85d9-4fd3-a320-fa01a29430d5",
   "metadata": {},
   "outputs": [],
   "source": [
    "percentileofscore(sample_means, 100)"
   ]
  },
  {
   "cell_type": "markdown",
   "id": "7720fd96-13f9-489c-afec-b0c083ef8995",
   "metadata": {},
   "source": [
    "The percentile will vary, but it's around 8%. That's not small enough for us to be sure that an average IQ of 100 isn't compatible with our data, so we can't conclude our sample was taken from an above average population."
   ]
  },
  {
   "cell_type": "markdown",
   "id": "45e60189-826c-46ef-8587-35bd70224a78",
   "metadata": {},
   "source": [
    "## Takeaway\n",
    "\n",
    "Statisical inference is conceptually quite straightforward. \n",
    "\n",
    "The goal is to determine whether our data is compatible with our assumptions---in the presence of sampling error."
   ]
  }
 ],
 "metadata": {
  "kernelspec": {
   "display_name": "Python 3 (ipykernel)",
   "language": "python",
   "name": "python3"
  },
  "language_info": {
   "codemirror_mode": {
    "name": "ipython",
    "version": 3
   },
   "file_extension": ".py",
   "mimetype": "text/x-python",
   "name": "python",
   "nbconvert_exporter": "python",
   "pygments_lexer": "ipython3",
   "version": "3.11.10"
  }
 },
 "nbformat": 4,
 "nbformat_minor": 5
}
