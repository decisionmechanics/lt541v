{
 "cells": [
  {
   "cell_type": "markdown",
   "id": "bfc788af-4608-4b2b-8b2b-9e994c04cb7c",
   "metadata": {},
   "source": [
    "<img width=\"300px\" src=\"../images/learning-tree-logo.svg\" alt=\"Learning Tree logo\" />"
   ]
  },
  {
   "cell_type": "markdown",
   "id": "ddfd07fb-b8b1-400c-80b3-c33f21af6e6e",
   "metadata": {},
   "source": [
    "# NumPy examples"
   ]
  },
  {
   "cell_type": "markdown",
   "id": "761f58af-70c9-4177-81ba-835e6e555178",
   "metadata": {},
   "source": [
    "Import NumPy."
   ]
  },
  {
   "cell_type": "code",
   "execution_count": null,
   "id": "f460c861-2a20-4efd-aab4-d1fcd10ee86e",
   "metadata": {},
   "outputs": [],
   "source": [
    "import numpy as np"
   ]
  },
  {
   "cell_type": "markdown",
   "id": "01fb9083-0e5f-44ae-b869-73cd18339438",
   "metadata": {},
   "source": [
    "## Creating NumPy arrays"
   ]
  },
  {
   "cell_type": "code",
   "execution_count": null,
   "id": "5ac55144-cdda-4c58-baab-851011f0a601",
   "metadata": {},
   "outputs": [],
   "source": [
    "primes = np.array([2.0, 3.0, 5.0, 7.0, 11.0])\n",
    "primes.shape"
   ]
  },
  {
   "cell_type": "code",
   "execution_count": null,
   "id": "db98c117-0a05-46aa-b2b9-506fc39dd553",
   "metadata": {},
   "outputs": [],
   "source": [
    "tic_tac_toe = np.array([[1, 0, 0], [0, 1, 0], [0, 0, 1]])\n",
    "tic_tac_toe.shape"
   ]
  },
  {
   "cell_type": "markdown",
   "id": "175d8fa5-ac6b-4efd-b299-1a648788d144",
   "metadata": {},
   "source": [
    "## Homogenous types"
   ]
  },
  {
   "cell_type": "markdown",
   "id": "db05c393-7342-42fe-a574-08eb23e589a6",
   "metadata": {},
   "source": [
    "NumPy arrays have homogenous types."
   ]
  },
  {
   "cell_type": "code",
   "execution_count": null,
   "id": "b1a40f14-c361-430b-ab27-998521f18f8d",
   "metadata": {},
   "outputs": [],
   "source": [
    "np.array([2, 3, 5, 7, 11]).dtype"
   ]
  },
  {
   "cell_type": "code",
   "execution_count": null,
   "id": "970ab746-3984-4699-84a6-4f2f96093b76",
   "metadata": {},
   "outputs": [],
   "source": [
    "np.array([2.0, 3.0, 5.0, 7.0, 11.0]).dtype"
   ]
  },
  {
   "cell_type": "code",
   "execution_count": null,
   "id": "785153cd-30c2-46f7-9e87-7748be5c1802",
   "metadata": {},
   "outputs": [],
   "source": [
    "np.array([\"h\", \"e\", \"l\", \"l\", \"o\"]).dtype"
   ]
  },
  {
   "cell_type": "markdown",
   "id": "dcaa68c6-ccd7-42f0-af8f-2ba27fc2c4d7",
   "metadata": {},
   "source": [
    "Mixed types are coerced to the most inclusive type."
   ]
  },
  {
   "cell_type": "code",
   "execution_count": null,
   "id": "017daaf9-f17b-4b88-834c-736a4633a0dc",
   "metadata": {},
   "outputs": [],
   "source": [
    "np.array([2, 3.0, 5, 7, 11]).dtype"
   ]
  },
  {
   "attachments": {},
   "cell_type": "markdown",
   "id": "1a44b60b-db96-408d-89b2-1b9638f3f85c",
   "metadata": {},
   "source": [
    "## Initialising arrays to the required dimensions"
   ]
  },
  {
   "cell_type": "code",
   "execution_count": null,
   "id": "d07fd9b6-bac7-49f8-8e72-b15c6917ce43",
   "metadata": {},
   "outputs": [],
   "source": [
    "np.empty((2, 2))"
   ]
  },
  {
   "cell_type": "code",
   "execution_count": null,
   "id": "4496bcec-6cb0-4f04-8147-a28ca774affa",
   "metadata": {},
   "outputs": [],
   "source": [
    "np.zeros((2, 2))"
   ]
  },
  {
   "cell_type": "code",
   "execution_count": null,
   "id": "5406babc-432e-459b-bf26-4599b9124eb2",
   "metadata": {},
   "outputs": [],
   "source": [
    "np.ones((2, 2))"
   ]
  },
  {
   "cell_type": "markdown",
   "id": "bc45c8dc-e00f-4009-b27d-21499500cb32",
   "metadata": {},
   "source": [
    "## Initialising arrays using sequences"
   ]
  },
  {
   "cell_type": "code",
   "execution_count": null,
   "id": "7fdb0ad9-73c8-45c9-8244-7a9e6670fcfc",
   "metadata": {},
   "outputs": [],
   "source": [
    "np.arange(0, 20, 3)"
   ]
  },
  {
   "cell_type": "code",
   "execution_count": null,
   "id": "ab7f0c71-ebbe-4196-a9cb-cdd136137e60",
   "metadata": {},
   "outputs": [],
   "source": [
    "np.linspace(0, 10, 4)"
   ]
  },
  {
   "cell_type": "code",
   "execution_count": null,
   "id": "baf22c24-4e2f-4540-8336-f0cb7e4e0ddc",
   "metadata": {},
   "outputs": [],
   "source": [
    "np.fromfunction(lambda i, j: (i + 1) ** (j + 1), (3, 3))"
   ]
  },
  {
   "cell_type": "markdown",
   "id": "1f384b26-35d3-40b0-b094-7d3f141be0d2",
   "metadata": {},
   "source": [
    "## Initialising arrays using repetition"
   ]
  },
  {
   "cell_type": "code",
   "execution_count": null,
   "id": "bf909dad-fc8e-41b5-9815-457bfd04edfc",
   "metadata": {},
   "outputs": [],
   "source": [
    "np.repeat(1, 3)"
   ]
  },
  {
   "cell_type": "code",
   "execution_count": null,
   "id": "dd6c3741-02c4-4da5-9797-14650f71dfa3",
   "metadata": {},
   "outputs": [],
   "source": [
    "np.repeat([1, 2], 3)"
   ]
  },
  {
   "cell_type": "code",
   "execution_count": null,
   "id": "54fc3693-3435-4898-a770-b86582f313e3",
   "metadata": {},
   "outputs": [],
   "source": [
    "np.repeat([[1, 2], [3, 4]], 3, axis=1)"
   ]
  },
  {
   "cell_type": "markdown",
   "id": "885c1e91-a8ee-428c-8485-31a313c76fa1",
   "metadata": {},
   "source": [
    "## Interpreting array output"
   ]
  },
  {
   "cell_type": "markdown",
   "id": "c648a998-5161-4459-b41f-ae4c967008e1",
   "metadata": {},
   "source": [
    "All but the last axis are printed from top-to-bottom. Each axis is separated from the next by an empty line.\n",
    "\n",
    "The last axis is printed left-to-right."
   ]
  },
  {
   "cell_type": "code",
   "execution_count": null,
   "id": "96f4371b-ef09-467c-a9ea-d7914785a6fa",
   "metadata": {},
   "outputs": [],
   "source": [
    "def to_id(i, j, k):\n",
    "    return (i + 1) * 100 + (j + 1) * 10 + k + 1\n",
    "\n",
    "np.fromfunction(to_id, (2, 3, 4), dtype=np.int64)"
   ]
  },
  {
   "cell_type": "markdown",
   "id": "481dc4ca-e993-4c2c-abd8-badfa46b1fd4",
   "metadata": {},
   "source": [
    "## Reshaping arrays"
   ]
  },
  {
   "cell_type": "code",
   "execution_count": null,
   "id": "afbb14c4-841b-4e30-b956-149c174dd022",
   "metadata": {},
   "outputs": [],
   "source": [
    "a = np.arange(1, 25).reshape(2, -1, 4)\n",
    "a"
   ]
  },
  {
   "cell_type": "code",
   "execution_count": null,
   "id": "a7ea6a87-9de7-4f48-a857-40c8794ef0cf",
   "metadata": {},
   "outputs": [],
   "source": [
    "a.ravel()"
   ]
  },
  {
   "cell_type": "markdown",
   "id": "ea808734-9dc3-4e2e-b74e-85faf09b711a",
   "metadata": {},
   "source": [
    "## Combining arrays"
   ]
  },
  {
   "cell_type": "code",
   "execution_count": null,
   "id": "570f91c8-3e8e-48d5-a32e-1f1c4b128cfc",
   "metadata": {},
   "outputs": [],
   "source": [
    "a = np.arange(1, 5).reshape((2, 2))\n",
    "b = np.arange(5, 9).reshape((2, 2))"
   ]
  },
  {
   "cell_type": "code",
   "execution_count": null,
   "id": "24238a45-24f6-45c3-90da-0c440b7b9ab7",
   "metadata": {},
   "outputs": [],
   "source": [
    "np.hstack((a, b))"
   ]
  },
  {
   "cell_type": "code",
   "execution_count": null,
   "id": "6fdab438-efbb-4f71-aaa3-e67e71c99fe9",
   "metadata": {},
   "outputs": [],
   "source": [
    "np.vstack((a, b))"
   ]
  },
  {
   "cell_type": "code",
   "execution_count": null,
   "id": "081c704b-a7b5-4e0f-819d-56992358f611",
   "metadata": {},
   "outputs": [],
   "source": [
    "np.concatenate((a, b), axis=1)"
   ]
  },
  {
   "cell_type": "markdown",
   "id": "18227666-10fc-4686-af0b-bc99f28f4556",
   "metadata": {},
   "source": [
    "## Slicing"
   ]
  },
  {
   "cell_type": "code",
   "execution_count": null,
   "id": "6310f71e-2d58-42f0-9151-3c101348ccfe",
   "metadata": {},
   "outputs": [],
   "source": [
    "a = np.arange(1, 25).reshape((2, 3, -1))\n",
    "\n",
    "a"
   ]
  },
  {
   "cell_type": "code",
   "execution_count": null,
   "id": "538c05c6-494c-4f08-923b-228192093d9d",
   "metadata": {},
   "outputs": [],
   "source": [
    "a[1:2, 1:2, 1:2]"
   ]
  },
  {
   "cell_type": "markdown",
   "id": "1b6ff3d8-a15d-4dad-b7c6-bd0ed852b11f",
   "metadata": {},
   "source": [
    "## Indexing"
   ]
  },
  {
   "cell_type": "code",
   "execution_count": null,
   "id": "367e670c-feaf-4018-a0cd-16ce000fe597",
   "metadata": {},
   "outputs": [],
   "source": [
    "a = np.arange(1, 10, dtype=np.float64).reshape((3, -1))\n",
    "\n",
    "a"
   ]
  },
  {
   "cell_type": "code",
   "execution_count": null,
   "id": "bff703d2-5358-4578-b6ec-642b551f2522",
   "metadata": {},
   "outputs": [],
   "source": [
    "i = (a >= 2.5) & (a <= 6.5)\n",
    "\n",
    "i"
   ]
  },
  {
   "cell_type": "code",
   "execution_count": null,
   "id": "88b0ee3c-49a2-441b-9df0-f9e186108c7d",
   "metadata": {},
   "outputs": [],
   "source": [
    "(a >= 2.5) & (a <= 6.5)"
   ]
  },
  {
   "cell_type": "code",
   "execution_count": null,
   "id": "b986f533-8479-447d-8dbb-6646ca4d4b43",
   "metadata": {},
   "outputs": [],
   "source": [
    "a[i] = np.nan\n",
    "\n",
    "a"
   ]
  },
  {
   "cell_type": "markdown",
   "id": "b30e24ad-7ab8-4dcc-8e9d-baab8a4ab596",
   "metadata": {},
   "source": [
    "## Views"
   ]
  },
  {
   "cell_type": "code",
   "execution_count": null,
   "id": "8462e88e-c7db-4115-9557-6c6c8f0b4541",
   "metadata": {},
   "outputs": [],
   "source": [
    "a = np.arange(1, 25, dtype=np.float64).reshape((2, 3, -1))\n",
    "b = a.view()"
   ]
  },
  {
   "cell_type": "code",
   "execution_count": null,
   "id": "985320b5-45cc-4afe-aba6-830c25056a8a",
   "metadata": {},
   "outputs": [],
   "source": [
    "b is a"
   ]
  },
  {
   "cell_type": "code",
   "execution_count": null,
   "id": "4843282a-08eb-4985-9d0c-c7a26a057187",
   "metadata": {},
   "outputs": [],
   "source": [
    "b.base is a.base"
   ]
  },
  {
   "cell_type": "code",
   "execution_count": null,
   "id": "6ff04d60-9326-4769-b290-094b09afaec2",
   "metadata": {},
   "outputs": [],
   "source": [
    "c = a[0:2, 0:2, 0:2]\n",
    "c[:] = np.nan"
   ]
  },
  {
   "cell_type": "code",
   "execution_count": null,
   "id": "1b268169-3413-4c8c-872a-9914ef521a67",
   "metadata": {},
   "outputs": [],
   "source": [
    "a"
   ]
  },
  {
   "cell_type": "markdown",
   "id": "63707862-bc99-4163-950a-b6cf40c9e745",
   "metadata": {},
   "source": [
    "## Deep copying"
   ]
  },
  {
   "cell_type": "code",
   "execution_count": null,
   "id": "bab9b314-4273-4f82-be90-831488aeffc4",
   "metadata": {},
   "outputs": [],
   "source": [
    "a = np.arange(1, 25, dtype=np.float64).reshape((2, 3, -1))\n",
    "\n",
    "c = a[0:2, 0:2, 0:2].copy()\n",
    "c[:] = np.nan\n",
    "\n",
    "a"
   ]
  },
  {
   "cell_type": "markdown",
   "id": "d5819265-3d58-4e7e-934b-666d5370e823",
   "metadata": {},
   "source": [
    "## Vectorising operations"
   ]
  },
  {
   "cell_type": "code",
   "execution_count": null,
   "id": "0269d75f-63dc-4959-b48f-8b8dca7e96ba",
   "metadata": {},
   "outputs": [],
   "source": [
    "temperatures = np.array([[0.0, 50.0, 100.0], [-10.0, -50.0, -100.0]])\n",
    "\n",
    "temperatures * 9.0 / 5.0 + 32.0"
   ]
  },
  {
   "cell_type": "code",
   "execution_count": null,
   "id": "aa318e6e-d22c-4d73-b2ea-88d6ed4e0bcb",
   "metadata": {},
   "outputs": [],
   "source": [
    "radii = np.array([1, 3, 10.0])\n",
    "np.pi * radii**2"
   ]
  },
  {
   "cell_type": "code",
   "execution_count": null,
   "id": "c7e5b20d-d4c6-409e-845d-368abd9b5c55",
   "metadata": {},
   "outputs": [],
   "source": [
    "revenue = np.array([1_000_000, 1_100_000, 1_200_000])\n",
    "costs = np.array([800_000, 850_000, 900_000])\n",
    "\n",
    "revenue - costs"
   ]
  },
  {
   "cell_type": "markdown",
   "id": "4869a867-813b-4272-aeeb-dee51ab8f7d9",
   "metadata": {},
   "source": [
    "## Broadcasting"
   ]
  },
  {
   "attachments": {},
   "cell_type": "markdown",
   "id": "ce4c6375-86b3-4823-a2a4-d6ac398d2bb2",
   "metadata": {},
   "source": [
    "Broadcasting allows operations to be performed on array that have different shapes. Smaller arrays are broadcast across larger arrays. The smaller array is \"stretched\" or repeated to be compatible with the dimensions of the lager array.\n",
    "\n",
    "Broadcasting rules:\n",
    "- The smaller array with have dimensions of size 1 prepended until it has the same number of dimensions are the larger array.\n",
    "- The \"right-most\" dimensions of the arrays must match, if they are not 1.\n",
    "- Arrays with incompatible dimensions will result in a `ValueError`.\n",
    "\n",
    "Broadcasting leads to efficient vectorised calculations. However, consideration needs to be paid to how the data is organised in memory to optimise performance This is especially true with large arrays (which are the ones where performance is usually an issue)."
   ]
  },
  {
   "cell_type": "code",
   "execution_count": null,
   "id": "5e27d1ef-f77b-4369-8129-0169b34206f2",
   "metadata": {},
   "outputs": [],
   "source": [
    "a = np.arange(1, 25).reshape((2, 3, -1))\n",
    "\n",
    "a"
   ]
  },
  {
   "cell_type": "code",
   "execution_count": null,
   "id": "aa754208-a9bb-4ea3-87c3-f6b87faeb9a9",
   "metadata": {},
   "outputs": [],
   "source": [
    "b = np.arange(1, 13).reshape((3, -1))\n",
    "\n",
    "b"
   ]
  },
  {
   "cell_type": "code",
   "execution_count": null,
   "id": "e8a7eb54-4a4c-4c92-b1b2-3c8952e2565d",
   "metadata": {},
   "outputs": [],
   "source": [
    "a * b"
   ]
  },
  {
   "cell_type": "markdown",
   "id": "4ab22a4c-4e89-4c33-9708-843c5368e48e",
   "metadata": {},
   "source": [
    "## Using NumPy functions"
   ]
  },
  {
   "cell_type": "markdown",
   "id": "27d22a04-1ebc-4442-9b44-e6a0801daa9c",
   "metadata": {},
   "source": [
    "NumPy has many built-in functions that are aggressively optimised. They operate elementwise, returning NumPy arrays.\n",
    "\n",
    "Some examples are\n",
    "\n",
    "```\n",
    "all, any, apply_along_axis, argmax, argmin, argsort, average, bincount, ceil, clip, conj, corrcoef, cos, cov, cross, cumprod, cumsum, diff, dot, exp, floor, inner, invert, lexsort, max, maximum, mean, median, min, minimum, nonzero, outer, prod, re, round, sin, sort, std, sum, trace, transpose, var, vdot, vectorize, where\n",
    "```"
   ]
  },
  {
   "cell_type": "code",
   "execution_count": null,
   "id": "a6b19167-d10b-4bed-b83f-df824139f92d",
   "metadata": {},
   "outputs": [],
   "source": [
    "odd_numbers = np.arange(1, 20, 2)\n",
    "\n",
    "odd_numbers"
   ]
  },
  {
   "cell_type": "code",
   "execution_count": null,
   "id": "28e3c0d4-4b75-497f-8fba-330b11ec5c13",
   "metadata": {},
   "outputs": [],
   "source": [
    "odd_numbers % 2 == 1"
   ]
  },
  {
   "cell_type": "code",
   "execution_count": null,
   "id": "32f153f6-c0ff-494c-8cce-3b76f8861a2f",
   "metadata": {},
   "outputs": [],
   "source": [
    "all(odd_numbers % 2 == 1)"
   ]
  },
  {
   "cell_type": "markdown",
   "id": "e072c8c5-1c00-4da9-8915-34cde5bfabba",
   "metadata": {},
   "source": [
    "## Generating random numbers"
   ]
  },
  {
   "cell_type": "code",
   "execution_count": null,
   "id": "7d13fa19-68ce-45f3-91d2-41319bf04333",
   "metadata": {},
   "outputs": [],
   "source": [
    "np.random.uniform(low=0, high=100, size=2)"
   ]
  },
  {
   "cell_type": "code",
   "execution_count": null,
   "id": "d333b982-5d09-46d3-9960-1bb8e3dbb104",
   "metadata": {},
   "outputs": [],
   "source": [
    "np.random.normal(loc=100, scale=16, size=2)"
   ]
  },
  {
   "cell_type": "code",
   "execution_count": null,
   "id": "a405c28b-b617-489a-b210-9439a432e4fe",
   "metadata": {},
   "outputs": [],
   "source": [
    "np.random.triangular(left=2, mode=5, right=10, size=2)"
   ]
  },
  {
   "cell_type": "code",
   "execution_count": null,
   "id": "d458a239-fdaf-40f1-8de5-c386234c363f",
   "metadata": {},
   "outputs": [],
   "source": [
    "np.random.binomial(n=10, p=0.5, size=5)"
   ]
  },
  {
   "cell_type": "code",
   "execution_count": null,
   "id": "79892dc4-1220-4882-9984-220e7924e8fd",
   "metadata": {},
   "outputs": [],
   "source": [
    "np.random.poisson(lam=2.5, size=2)"
   ]
  },
  {
   "cell_type": "code",
   "execution_count": null,
   "id": "33626719-b719-48c2-9738-1b4d31f1b881",
   "metadata": {},
   "outputs": [],
   "source": [
    "np.random.beta(a=2, b=5, size=2)"
   ]
  },
  {
   "cell_type": "markdown",
   "id": "7ed1dcfe-ab5c-4f55-938f-f3f656ca6014",
   "metadata": {},
   "source": [
    "## Peforming matrix operations"
   ]
  },
  {
   "cell_type": "code",
   "execution_count": null,
   "id": "f0e9a774-67a2-41cc-acb0-8884c8a07438",
   "metadata": {},
   "outputs": [],
   "source": [
    "a = np.arange(1, 10).reshape((3, -1))\n",
    "\n",
    "a"
   ]
  },
  {
   "cell_type": "code",
   "execution_count": null,
   "id": "722c714a-4017-46b5-99d3-c21fb68be10d",
   "metadata": {},
   "outputs": [],
   "source": [
    "a.T"
   ]
  },
  {
   "cell_type": "code",
   "execution_count": null,
   "id": "e3b48fcb-d6fd-4b47-a21a-57498e15c41e",
   "metadata": {},
   "outputs": [],
   "source": [
    "b = np.arange(1, 4)\n",
    "\n",
    "b"
   ]
  },
  {
   "cell_type": "code",
   "execution_count": null,
   "id": "e73d2315-b77b-4398-8643-a44237341b71",
   "metadata": {},
   "outputs": [],
   "source": [
    "np.matmul(a, b)"
   ]
  },
  {
   "cell_type": "markdown",
   "id": "fb70866a-1e0d-42a9-b497-d990ed2187f1",
   "metadata": {},
   "source": [
    "## Creating universal functions"
   ]
  },
  {
   "cell_type": "code",
   "execution_count": null,
   "id": "2719f74b-f118-4d46-a745-7b0277093c6c",
   "metadata": {},
   "outputs": [],
   "source": [
    "def to_fahrenheit(deg_c):\n",
    "    return deg_c * 9.0 / 5.0 + 32\n",
    "\n",
    "\n",
    "temperatures = np.array([0, 50, 100])"
   ]
  },
  {
   "cell_type": "code",
   "execution_count": null,
   "id": "09f554aa-359c-4377-8e5f-0367a7677c02",
   "metadata": {},
   "outputs": [],
   "source": [
    "%%timeit\n",
    "\n",
    "to_fahrenheit(temperatures)"
   ]
  },
  {
   "cell_type": "code",
   "execution_count": null,
   "id": "9869ede7-892d-4c6c-9b50-3ac944e74136",
   "metadata": {},
   "outputs": [],
   "source": [
    "np_to_fahrenheit = np.frompyfunc(to_fahrenheit, 1, 1)"
   ]
  },
  {
   "cell_type": "code",
   "execution_count": null,
   "id": "c46c03a2-d06a-40a2-8906-3d465ea53e08",
   "metadata": {},
   "outputs": [],
   "source": [
    "%%timeit\n",
    "\n",
    "np_to_fahrenheit(temperatures)"
   ]
  }
 ],
 "metadata": {
  "kernelspec": {
   "display_name": "Python 3 (ipykernel)",
   "language": "python",
   "name": "python3"
  },
  "language_info": {
   "codemirror_mode": {
    "name": "ipython",
    "version": 3
   },
   "file_extension": ".py",
   "mimetype": "text/x-python",
   "name": "python",
   "nbconvert_exporter": "python",
   "pygments_lexer": "ipython3",
   "version": "3.11.10"
  }
 },
 "nbformat": 4,
 "nbformat_minor": 5
}
